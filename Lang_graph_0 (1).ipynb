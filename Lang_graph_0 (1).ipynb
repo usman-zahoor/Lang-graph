{
  "nbformat": 4,
  "nbformat_minor": 0,
  "metadata": {
    "colab": {
      "provenance": [],
      "collapsed_sections": [
        "v-E6-F4kt6Gw",
        "TbzhFgGpy53q",
        "wbmiutv90SDm",
        "I44uVUSj8dM_"
      ]
    },
    "kernelspec": {
      "name": "python3",
      "display_name": "Python 3"
    },
    "language_info": {
      "name": "python"
    }
  },
  "cells": [
    {
      "cell_type": "code",
      "execution_count": 1,
      "metadata": {
        "colab": {
          "base_uri": "https://localhost:8080/"
        },
        "id": "tPqm6p4GtjGB",
        "outputId": "f61d9317-8591-4ada-8c06-b203195cf533"
      },
      "outputs": [
        {
          "output_type": "stream",
          "name": "stdout",
          "text": [
            "\n",
            "Usage:   \n",
            "  pip3 install [options] <requirement specifier> [package-index-options] ...\n",
            "  pip3 install [options] -r <requirements file> [package-index-options] ...\n",
            "  pip3 install [options] [-e] <vcs project url> ...\n",
            "  pip3 install [options] [-e] <local project path> ...\n",
            "  pip3 install [options] <archive url/path> ...\n",
            "\n",
            "no such option: --quite\n"
          ]
        }
      ],
      "source": [
        "%pip install --quite -U langgraph"
      ]
    },
    {
      "cell_type": "markdown",
      "source": [
        "### State"
      ],
      "metadata": {
        "id": "v-E6-F4kt6Gw"
      }
    },
    {
      "cell_type": "code",
      "source": [
        "from typing_extensions import TypedDict\n",
        "\n",
        "class learningState(TypedDict):\n",
        "    prompt: str"
      ],
      "metadata": {
        "id": "6mFlPPUjt6bI"
      },
      "execution_count": 9,
      "outputs": []
    },
    {
      "cell_type": "code",
      "source": [
        "#prompt example\n",
        "\n",
        "onlineclass: learningState=learningState(prompt='Are you ready for online class? \\n')"
      ],
      "metadata": {
        "id": "WuAPA3OruPv0"
      },
      "execution_count": 23,
      "outputs": []
    },
    {
      "cell_type": "code",
      "source": [
        "print(onlineclass)\n",
        "print(onlineclass['prompt'])\n",
        "\n",
        "print(onlineclass['prompt'] +' yes,I am ready for online class')\n",
        "print(onlineclass)\n",
        "\n",
        "print(type(onlineclass))"
      ],
      "metadata": {
        "colab": {
          "base_uri": "https://localhost:8080/"
        },
        "id": "R2schzqPvXg8",
        "outputId": "f0233528-ca13-4cad-c46d-c3595a37e4b7"
      },
      "execution_count": 24,
      "outputs": [
        {
          "output_type": "stream",
          "name": "stdout",
          "text": [
            "{'prompt': 'Are you ready for online class? \\n'}\n",
            "Are you ready for online class? \n",
            "\n",
            "Are you ready for online class? \n",
            " yes,I am ready for online class\n",
            "{'prompt': 'Are you ready for online class? \\n'}\n",
            "<class 'dict'>\n"
          ]
        }
      ]
    },
    {
      "cell_type": "code",
      "source": [
        "#example_2\n",
        "class LahoreCity(TypedDict):\n",
        "  prompt:str"
      ],
      "metadata": {
        "id": "4245WkiovrG6"
      },
      "execution_count": 26,
      "outputs": []
    },
    {
      "cell_type": "code",
      "source": [
        "statement:LahoreCity=(LahoreCity(prompt=\"Lahore is famous for historic places \\n\"))"
      ],
      "metadata": {
        "id": "Ev-eng5BxA_8"
      },
      "execution_count": 38,
      "outputs": []
    },
    {
      "cell_type": "code",
      "source": [
        "print(statement)\n",
        "print(statement['prompt'])\n",
        "\n",
        "print(statement['prompt']+'Yeah!This is true')\n"
      ],
      "metadata": {
        "colab": {
          "base_uri": "https://localhost:8080/"
        },
        "id": "PJDUbSz2xpmQ",
        "outputId": "c2b9308b-39a4-4945-c2bb-f8238150865b"
      },
      "execution_count": 40,
      "outputs": [
        {
          "output_type": "stream",
          "name": "stdout",
          "text": [
            "{'prompt': 'Lahore is famous for historic places \\n'}\n",
            "Lahore is famous for historic places \n",
            "\n",
            "Lahore is famous for historic places \n",
            "Yeah!This is true\n"
          ]
        }
      ]
    },
    {
      "cell_type": "markdown",
      "source": [
        "### Nodes"
      ],
      "metadata": {
        "id": "TbzhFgGpy53q"
      }
    },
    {
      "cell_type": "code",
      "source": [
        "def node_1(state: LahoreCity) -> LahoreCity:\n",
        "    print(\"---Node 1 State---\", state)\n",
        "    return {\"prompt\": state['prompt'] +\" I am\"}\n",
        "\n",
        "def node_2(state: LahoreCity) -> LahoreCity:\n",
        "    print(\"---Node 2 State---\", state)\n",
        "    return {\"prompt\": state['prompt'] +\" happy!\"}"
      ],
      "metadata": {
        "id": "yle3y-fox1xK"
      },
      "execution_count": 41,
      "outputs": []
    },
    {
      "cell_type": "markdown",
      "source": [
        "### Edges"
      ],
      "metadata": {
        "id": "wbmiutv90SDm"
      }
    },
    {
      "cell_type": "code",
      "source": [
        "from IPython.display import Image, display # Preview Graph\n",
        "\n",
        "from langgraph.graph import StateGraph, START, END\n",
        "from langgraph.graph.state import CompiledStateGraph # type\n",
        "\n",
        "# Build graph\n",
        "builder: StateGraph = StateGraph(state_schema=LahoreCity)"
      ],
      "metadata": {
        "id": "DaEXSRJwzq1d"
      },
      "execution_count": 61,
      "outputs": []
    },
    {
      "cell_type": "code",
      "source": [
        "# Nodes\n",
        "builder.add_node(\"node_1\", node_1)\n",
        "builder.add_node(\"node_2\", node_2)"
      ],
      "metadata": {
        "colab": {
          "base_uri": "https://localhost:8080/"
        },
        "id": "9vIgW33U0lDP",
        "outputId": "0b6b25ee-b5a1-46a7-8c9c-6a6b1bcea9c8"
      },
      "execution_count": 62,
      "outputs": [
        {
          "output_type": "execute_result",
          "data": {
            "text/plain": [
              "<langgraph.graph.state.StateGraph at 0x7d3ddd023fa0>"
            ]
          },
          "metadata": {},
          "execution_count": 62
        }
      ]
    },
    {
      "cell_type": "code",
      "source": [
        "# Simples Edges Logic\n",
        "builder.add_edge(START, \"node_1\")\n",
        "builder.add_edge(\"node_1\", \"node_2\")\n",
        "builder.add_edge(\"node_2\", END)"
      ],
      "metadata": {
        "colab": {
          "base_uri": "https://localhost:8080/"
        },
        "id": "y7bG1DAJ7Eft",
        "outputId": "ead2d0da-4767-44c2-8ea9-6cd98172bcbc"
      },
      "execution_count": 63,
      "outputs": [
        {
          "output_type": "execute_result",
          "data": {
            "text/plain": [
              "<langgraph.graph.state.StateGraph at 0x7d3ddd023fa0>"
            ]
          },
          "metadata": {},
          "execution_count": 63
        }
      ]
    },
    {
      "cell_type": "code",
      "source": [
        "# Add\n",
        "graph: CompiledStateGraph = builder.compile()"
      ],
      "metadata": {
        "id": "yAbBZpXQ7GwV"
      },
      "execution_count": 64,
      "outputs": []
    },
    {
      "cell_type": "code",
      "source": [
        "print(graph)"
      ],
      "metadata": {
        "colab": {
          "base_uri": "https://localhost:8080/"
        },
        "id": "ylGpAkWP7Ih2",
        "outputId": "54aacdd3-ee79-44de-e352-c1da5862a1ab"
      },
      "execution_count": 65,
      "outputs": [
        {
          "output_type": "stream",
          "name": "stdout",
          "text": [
            "<langgraph.graph.state.CompiledStateGraph object at 0x7d3ddbe89ea0>\n"
          ]
        }
      ]
    },
    {
      "cell_type": "code",
      "source": [
        "print(graph.get_graph())"
      ],
      "metadata": {
        "colab": {
          "base_uri": "https://localhost:8080/"
        },
        "id": "RRI-J-v37KfV",
        "outputId": "de5a08cd-5006-4af8-8a9c-076fdddf971e"
      },
      "execution_count": 66,
      "outputs": [
        {
          "output_type": "stream",
          "name": "stdout",
          "text": [
            "Graph(nodes={'__start__': Node(id='__start__', name='__start__', data=<class 'langchain_core.utils.pydantic.LangGraphInput'>, metadata=None), 'node_1': Node(id='node_1', name='node_1', data=node_1(tags=None, recurse=True, func_accepts_config=False, func_accepts={'writer': False, 'store': False}), metadata=None), 'node_2': Node(id='node_2', name='node_2', data=node_2(tags=None, recurse=True, func_accepts_config=False, func_accepts={'writer': False, 'store': False}), metadata=None), '__end__': Node(id='__end__', name='__end__', data=<class 'langchain_core.utils.pydantic.LangGraphOutput'>, metadata=None)}, edges=[Edge(source='__start__', target='node_1', data=None, conditional=False), Edge(source='node_1', target='node_2', data=None, conditional=False), Edge(source='node_2', target='__end__', data=None, conditional=False)])\n"
          ]
        }
      ]
    },
    {
      "cell_type": "code",
      "source": [
        "# View\n",
        "display(Image(graph.get_graph().draw_mermaid_png()))"
      ],
      "metadata": {
        "colab": {
          "base_uri": "https://localhost:8080/",
          "height": 350
        },
        "id": "Wsy3s3ok7Okd",
        "outputId": "57decf8b-9260-4775-b86e-ea44d7108fda"
      },
      "execution_count": 67,
      "outputs": [
        {
          "output_type": "display_data",
          "data": {
            "image/jpeg": "[encoded data removed]",
            "text/plain": [
              "<IPython.core.display.Image object>"
            ]
          },
          "metadata": {}
        }
      ]
    },
    {
      "cell_type": "markdown",
      "source": [
        "### Graph Invocation"
      ],
      "metadata": {
        "id": "I44uVUSj8dM_"
      }
    },
    {
      "cell_type": "code",
      "source": [
        "graph.invoke({\"prompt\" : \"Hi\"})"
      ],
      "metadata": {
        "colab": {
          "base_uri": "https://localhost:8080/"
        },
        "id": "hLBJHqoX8end",
        "outputId": "b8356ca2-7606-47c2-ebd1-c0d2e690a525"
      },
      "execution_count": 68,
      "outputs": [
        {
          "output_type": "stream",
          "name": "stdout",
          "text": [
            "---Node 1 State--- {'prompt': 'Hi'}\n",
            "---Node 2 State--- {'prompt': 'Hi I am'}\n"
          ]
        },
        {
          "output_type": "execute_result",
          "data": {
            "text/plain": [
              "{'prompt': 'Hi I am happy!'}"
            ]
          },
          "metadata": {},
          "execution_count": 68
        }
      ]
    },
    {
      "cell_type": "code",
      "source": [],
      "metadata": {
        "id": "1WG3ipw68jil"
      },
      "execution_count": null,
      "outputs": []
    },
    {
      "cell_type": "markdown",
      "source": [
        "### Nodes Use LLM == GoogleChatModel in Langchain"
      ],
      "metadata": {
        "id": "Ule-B6I6EpE1"
      }
    },
    {
      "cell_type": "code",
      "source": [
        "%pip install -q -U langchain\n",
        "%pip install -q -U langchain-google-genai"
      ],
      "metadata": {
        "colab": {
          "base_uri": "https://localhost:8080/"
        },
        "id": "ReEMbeOOErAm",
        "outputId": "35f50217-9015-4d9f-d21b-b8f79acb9340"
      },
      "execution_count": 69,
      "outputs": [
        {
          "output_type": "stream",
          "name": "stdout",
          "text": [
            "\u001b[?25l   \u001b[90m━━━━━━━━━━━━━━━━━━━━━━━━━━━━━━━━━━━━━━━━\u001b[0m \u001b[32m0.0/40.4 kB\u001b[0m \u001b[31m?\u001b[0m eta \u001b[36m-:--:--\u001b[0m\r\u001b[2K   \u001b[90m━━━━━━━━━━━━━━━━━━━━━━━━━━━━━━━━━━━━━━━━\u001b[0m \u001b[32m40.4/40.4 kB\u001b[0m \u001b[31m1.4 MB/s\u001b[0m eta \u001b[36m0:00:00\u001b[0m\n",
            "\u001b[2K   \u001b[90m━━━━━━━━━━━━━━━━━━━━━━━━━━━━━━━━━━━━━━━━\u001b[0m \u001b[32m160.8/160.8 kB\u001b[0m \u001b[31m4.3 MB/s\u001b[0m eta \u001b[36m0:00:00\u001b[0m\n",
            "\u001b[2K   \u001b[90m━━━━━━━━━━━━━━━━━━━━━━━━━━━━━━━━━━━━━━━━\u001b[0m \u001b[32m760.0/760.0 kB\u001b[0m \u001b[31m20.2 MB/s\u001b[0m eta \u001b[36m0:00:00\u001b[0m\n",
            "\u001b[?25h"
          ]
        }
      ]
    },
    {
      "cell_type": "code",
      "source": [
        "from google.colab import userdata\n",
        "google_api_key = userdata.get('GEMINI_API_KEY')"
      ],
      "metadata": {
        "id": "rmD78FqwE6Ph"
      },
      "execution_count": 73,
      "outputs": []
    },
    {
      "cell_type": "code",
      "source": [
        "from langchain_google_genai import ChatGoogleGenerativeAI\n",
        "\n",
        "# Initialize an instance of the ChatGoogleGenerativeAI with specific parameters\n",
        "llm: ChatGoogleGenerativeAI = ChatGoogleGenerativeAI(\n",
        "    model=\"gemini-1.5-flash\",  # Specify the model to use\n",
        "    api_key=google_api_key,     # Provide the Google API key for authentication\n",
        ")"
      ],
      "metadata": {
        "id": "pYPvtebdGaKW"
      },
      "execution_count": 76,
      "outputs": []
    },
    {
      "cell_type": "code",
      "source": [
        "# Import the AIMessage class currently will be used for typing\n",
        "from langchain_core.messages.ai import AIMessage\n",
        "\n",
        "ai_msg: AIMessage = llm.invoke(\"Hi?\")"
      ],
      "metadata": {
        "id": "K5kC3g2RGghr"
      },
      "execution_count": 77,
      "outputs": []
    },
    {
      "cell_type": "code",
      "source": [
        "print(ai_msg.content)\n",
        "print(type(ai_msg.content))"
      ],
      "metadata": {
        "colab": {
          "base_uri": "https://localhost:8080/"
        },
        "id": "_vNPDi4_GlE2",
        "outputId": "4b6a136d-eeba-46f5-bed9-18d6efc0261d"
      },
      "execution_count": 78,
      "outputs": [
        {
          "output_type": "stream",
          "name": "stdout",
          "text": [
            "Hi! How can I help you today? \n",
            "\n",
            "<class 'str'>\n"
          ]
        }
      ]
    },
    {
      "cell_type": "code",
      "source": [
        "from typing_extensions import TypedDict\n",
        "\n",
        "class FirstLLMAgentCall(TypedDict):\n",
        "    prompt: str\n",
        "    output: str"
      ],
      "metadata": {
        "id": "ggvzIgbBGprv"
      },
      "execution_count": 79,
      "outputs": []
    },
    {
      "cell_type": "code",
      "source": [
        "def node_1(state: FirstLLMAgentCall):\n",
        "    print(\"---Node 1---\", state)\n",
        "    prompt = state[\"prompt\"]\n",
        "    ai_msg: AIMessage = llm.invoke(prompt)\n",
        "    return {\"output\": ai_msg.content}"
      ],
      "metadata": {
        "id": "dgYZC_c6GtYm"
      },
      "execution_count": 80,
      "outputs": []
    },
    {
      "cell_type": "code",
      "source": [
        "zeeshan_bhai_greet_message = node_1(FirstLLMAgentCall(prompt=\"Hello from UMT\"))\n",
        "print(zeeshan_bhai_greet_message)"
      ],
      "metadata": {
        "colab": {
          "base_uri": "https://localhost:8080/"
        },
        "id": "6UnqJsXaGv-O",
        "outputId": "ab51d643-d173-41a7-d85b-b1ebb801da38"
      },
      "execution_count": 81,
      "outputs": [
        {
          "output_type": "stream",
          "name": "stdout",
          "text": [
            "---Node 1--- {'prompt': 'Hello from UMT'}\n",
            "{'output': \"Hello from UMT! \\n\\nIt's great to hear from you.  What can I do for you today? \\n\"}\n"
          ]
        }
      ]
    },
    {
      "cell_type": "code",
      "source": [
        "from IPython.display import Image, display # Preview Graph\n",
        "\n",
        "from langgraph.graph import StateGraph, START, END\n",
        "from langgraph.graph.state import CompiledStateGraph # type\n",
        "\n",
        "# Build graph\n",
        "builder: StateGraph = StateGraph(state_schema=FirstLLMAgentCall)\n",
        "\n",
        "# Define Nodes\n",
        "builder.add_node(\"node_1\", node_1)\n",
        "\n",
        "# Add Edges\n",
        "builder.add_edge(START, \"node_1\")\n",
        "builder.add_edge(\"node_1\", END)\n",
        "\n",
        "# Compile Graph\n",
        "graph: CompiledStateGraph = builder.compile()"
      ],
      "metadata": {
        "id": "d5q1jOfiGya9"
      },
      "execution_count": 82,
      "outputs": []
    },
    {
      "cell_type": "code",
      "source": [
        "# View\n",
        "display(Image(graph.get_graph().draw_mermaid_png()))"
      ],
      "metadata": {
        "colab": {
          "base_uri": "https://localhost:8080/",
          "height": 251
        },
        "id": "C3OB0GwvG1Fn",
        "outputId": "feecae49-0056-4a5f-a8dc-377d02b38f33"
      },
      "execution_count": 83,
      "outputs": [
        {
          "output_type": "display_data",
          "data": {
            "image/jpeg": "[encoded data removed]",
            "text/plain": [
              "<IPython.core.display.Image object>"
            ]
          },
          "metadata": {}
        }
      ]
    },
    {
      "cell_type": "code",
      "source": [
        "result = graph.invoke({\"prompt\" : \"Motivate me to learn LangGraph\"})"
      ],
      "metadata": {
        "colab": {
          "base_uri": "https://localhost:8080/"
        },
        "id": "tjJQCbZoG3G-",
        "outputId": "eca498ae-6438-495f-d892-c9fcbc762762"
      },
      "execution_count": 84,
      "outputs": [
        {
          "output_type": "stream",
          "name": "stdout",
          "text": [
            "---Node 1--- {'prompt': 'Motivate me to learn LangGraph'}\n"
          ]
        }
      ]
    },
    {
      "cell_type": "code",
      "source": [
        "print(result)"
      ],
      "metadata": {
        "colab": {
          "base_uri": "https://localhost:8080/"
        },
        "id": "NWqb01PcG4-_",
        "outputId": "fd7fcb45-1480-4e59-f761-ade55f57cfec"
      },
      "execution_count": 85,
      "outputs": [
        {
          "output_type": "stream",
          "name": "stdout",
          "text": [
            "{'prompt': 'Motivate me to learn LangGraph', 'output': \"## Why Learn LangGraph?\\n\\nLangGraph is a powerful tool for anyone who wants to **unlock the full potential of language data**. Here's why you should consider learning it:\\n\\n**1.  The Future of Language Understanding:** \\n\\n* LangGraph goes beyond traditional NLP techniques. It leverages **knowledge graphs** to create a deeper understanding of language, capturing relationships and context. \\n* This allows for **more nuanced analysis**, enabling you to extract insights and solve problems that were previously impossible.\\n\\n**2.  Versatile Applications:**\\n\\n* LangGraph can be applied to a wide range of fields, including:\\n    * **Sentiment analysis:** Understand the underlying emotions and opinions expressed in text.\\n    * **Information extraction:** Automatically extract key information from documents.\\n    * **Question answering:** Build intelligent systems that can answer complex questions.\\n    * **Text summarization:** Summarize large amounts of text into concise and informative summaries.\\n    * **Translation:** Improve machine translation quality by incorporating contextual information.\\n\\n**3.  Enhanced Knowledge Representation:**\\n\\n* LangGraph allows you to represent complex knowledge in a structured and organized way. \\n* This facilitates **efficient reasoning and discovery**, making it easier to uncover hidden patterns and relationships in your data.\\n\\n**4.  Unlocking New Possibilities:**\\n\\n* Learning LangGraph opens doors to **exciting new opportunities** in research, development, and innovation.\\n* You can contribute to cutting-edge applications in various domains, from healthcare and finance to education and social media.\\n\\n**5.  A Growing Community:**\\n\\n* LangGraph has a vibrant and supportive community of developers and researchers.\\n* This means you can **access resources, learn from others, and collaborate on exciting projects**.\\n\\n**The Bottom Line:**\\n\\nLearning LangGraph is an investment in your future. It equips you with the skills and knowledge to navigate the rapidly evolving world of language technology and contribute to groundbreaking advancements. \\n\\n**Ready to dive in?** Start exploring the LangGraph documentation, tutorials, and community forums. You'll be amazed by what you can achieve. \\n\"}\n"
          ]
        }
      ]
    },
    {
      "cell_type": "code",
      "source": [
        "# just another helpter function\n",
        "import textwrap\n",
        "from IPython.display import display, Markdown\n",
        "\n",
        "def to_markdown(text)-> Markdown:\n",
        "    text : str = text.replace(\"•\", \"  *\")\n",
        "    return Markdown(textwrap.indent(text, \"> \", predicate=lambda _: True))"
      ],
      "metadata": {
        "id": "YouSqYjYG7vn"
      },
      "execution_count": 86,
      "outputs": []
    },
    {
      "cell_type": "code",
      "source": [
        "print(\"PROMPT: \", result['prompt'])\n",
        "to_markdown(result['output'])"
      ],
      "metadata": {
        "colab": {
          "base_uri": "https://localhost:8080/",
          "height": 616
        },
        "id": "q0jM1da0G99W",
        "outputId": "00c3a976-6f90-4980-8db8-2ae1e9d4dfbf"
      },
      "execution_count": 87,
      "outputs": [
        {
          "output_type": "stream",
          "name": "stdout",
          "text": [
            "PROMPT:  Motivate me to learn LangGraph\n"
          ]
        },
        {
          "output_type": "execute_result",
          "data": {
            "text/plain": [
              "<IPython.core.display.Markdown object>"
            ],
            "text/markdown": "> ## Why Learn LangGraph?\n> \n> LangGraph is a powerful tool for anyone who wants to **unlock the full potential of language data**. Here's why you should consider learning it:\n> \n> **1.  The Future of Language Understanding:** \n> \n> * LangGraph goes beyond traditional NLP techniques. It leverages **knowledge graphs** to create a deeper understanding of language, capturing relationships and context. \n> * This allows for **more nuanced analysis**, enabling you to extract insights and solve problems that were previously impossible.\n> \n> **2.  Versatile Applications:**\n> \n> * LangGraph can be applied to a wide range of fields, including:\n>     * **Sentiment analysis:** Understand the underlying emotions and opinions expressed in text.\n>     * **Information extraction:** Automatically extract key information from documents.\n>     * **Question answering:** Build intelligent systems that can answer complex questions.\n>     * **Text summarization:** Summarize large amounts of text into concise and informative summaries.\n>     * **Translation:** Improve machine translation quality by incorporating contextual information.\n> \n> **3.  Enhanced Knowledge Representation:**\n> \n> * LangGraph allows you to represent complex knowledge in a structured and organized way. \n> * This facilitates **efficient reasoning and discovery**, making it easier to uncover hidden patterns and relationships in your data.\n> \n> **4.  Unlocking New Possibilities:**\n> \n> * Learning LangGraph opens doors to **exciting new opportunities** in research, development, and innovation.\n> * You can contribute to cutting-edge applications in various domains, from healthcare and finance to education and social media.\n> \n> **5.  A Growing Community:**\n> \n> * LangGraph has a vibrant and supportive community of developers and researchers.\n> * This means you can **access resources, learn from others, and collaborate on exciting projects**.\n> \n> **The Bottom Line:**\n> \n> Learning LangGraph is an investment in your future. It equips you with the skills and knowledge to navigate the rapidly evolving world of language technology and contribute to groundbreaking advancements. \n> \n> **Ready to dive in?** Start exploring the LangGraph documentation, tutorials, and community forums. You'll be amazed by what you can achieve. \n"
          },
          "metadata": {},
          "execution_count": 87
        }
      ]
    }
  ]
}